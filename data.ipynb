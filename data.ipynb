{
 "cells": [
  {
   "cell_type": "code",
   "execution_count": 8,
   "metadata": {},
   "outputs": [],
   "source": [
    "# Dependencies\n",
    "import pandas as pd "
   ]
  },
  {
   "cell_type": "code",
   "execution_count": 9,
   "metadata": {},
   "outputs": [],
   "source": [
    "file = 'tournamentdata/old/Player Statistics.csv'"
   ]
  },
  {
   "cell_type": "code",
   "execution_count": 10,
   "metadata": {},
   "outputs": [],
   "source": [
    "df = pd.read_csv(file, encoding=\"ISO-8859-1\")"
   ]
  },
  {
   "cell_type": "code",
   "execution_count": 11,
   "metadata": {},
   "outputs": [
    {
     "data": {
      "text/plain": [
       "<bound method NDFrame.head of         Player   Age             Team     Current Team  Birth Date  Maps  \\\n",
       "0       zekken  19.0        Sentinels        Sentinels  2005-03-19    20   \n",
       "1       ZmjjKK  20.0    EDward Gaming    EDward Gaming  2004-03-03     8   \n",
       "2      N4RRATE  21.0     Karmine Corp     Karmine Corp  2002-11-25     7   \n",
       "3      MiniBoo  19.0    Team Heretics    Team Heretics  2005-07-11     6   \n",
       "4       Autumn  23.0  FunPlus Phoenix  FunPlus Phoenix  2001-11-09     4   \n",
       "5         Life  22.0  FunPlus Phoenix  FunPlus Phoenix  2002-08-09     4   \n",
       "6        RieNs  19.0    Team Heretics    Team Heretics  2005-05-20     6   \n",
       "7       Meteor  24.0    Gen.G Esports    Gen.G Esports  1999-12-19    16   \n",
       "8      t3xture  24.0    Gen.G Esports    Gen.G Esports  1999-07-20    16   \n",
       "9     cauanzin  19.0             LOUD             LOUD  2005-08-02    12   \n",
       "10         qck  20.0             LOUD             LOUD  2003-07-18    12   \n",
       "11  benjyfishy  20.0    Team Heretics    Team Heretics  2004-04-02     6   \n",
       "12    f0rsakeN  20.0        Paper Rex        Paper Rex  2004-03-25    17   \n",
       "13     marteen  20.0     Karmine Corp     Karmine Corp  2004-10-21     7   \n",
       "14        Less  19.0             LOUD             LOUD  2005-02-24    12   \n",
       "15   something  22.0        Paper Rex        Paper Rex  2002-02-11    17   \n",
       "16        TenZ  23.0        Sentinels        Sentinels  2001-05-05    20   \n",
       "17       Karon  22.0    Gen.G Esports    Gen.G Esports  2002-10-21    16   \n",
       "18      Monyet  19.0        Paper Rex   Rex Regum Qeon  2005-06-05    17   \n",
       "19      johnqt  26.0        Sentinels        Sentinels  1998-09-21    20   \n",
       "20      Magnum  23.0     Karmine Corp     Karmine Corp  2001-08-09     7   \n",
       "21      Smoggy  22.0    EDward Gaming    EDward Gaming  2002-06-08     8   \n",
       "22     Saadhak  27.0             LOUD             LOUD  1997-03-08    12   \n",
       "23     Saadhak  26.0        Sentinels        Sentinels  1997-12-02    12   \n",
       "24        tuyz  21.0             LOUD             LOUD  2003-08-03    12   \n",
       "25    Munchkin  26.0    Gen.G Esports    Gen.G Esports  1998-03-27    16   \n",
       "26     Zellsis  26.0        Sentinels        Sentinels  1998-03-02    20   \n",
       "27       d4v41  25.0        Paper Rex        Paper Rex  1998-10-14    17   \n",
       "28        Shin  22.0     Karmine Corp     Karmine Corp  2002-09-03     7   \n",
       "29        Sacy  27.0             LOUD             LOUD  1997-03-08    20   \n",
       "30        Sacy  26.0        Sentinels        Sentinels  1997-12-02    20   \n",
       "31      nobody  21.0    EDward Gaming    EDward Gaming  2002-12-05     8   \n",
       "32     CHICHOO  20.0    EDward Gaming    EDward Gaming  2003-11-27     8   \n",
       "33   mindfreak  25.0        Paper Rex        Paper Rex  1999-10-04    17   \n",
       "34         Boo  26.0    Team Heretics    Team Heretics  1997-12-02     6   \n",
       "35       AAAAY  21.0  FunPlus Phoenix  FunPlus Phoenix  2002-12-12     4   \n",
       "36       Lakia  23.0    Gen.G Esports    Gen.G Esports  2000-12-24    16   \n",
       "37      Lysoar  19.0  FunPlus Phoenix  FunPlus Phoenix  2005-02-22     4   \n",
       "38     Haodong  22.0    EDward Gaming    EDward Gaming  2002-08-04     8   \n",
       "39      BerLIN  20.0  FunPlus Phoenix  FunPlus Phoenix  2004-04-19     4   \n",
       "40     paTiTek  25.0    Team Heretics    Team Heretics  1999-09-07     6   \n",
       "41     tomaszy  19.0     Karmine Corp     Karmine Corp  2005-08-19     7   \n",
       "\n",
       "    Kills  Deaths  Assists  KillperDeath   KDA  ACS/Map  K/Map  D/Map  A/Map  \n",
       "0     381     314       90          1.21  1.50      259   19.0   15.7    4.5  \n",
       "1     135     125       39          1.08  1.39      252   16.8   15.6    4.8  \n",
       "2     132     104       65          1.26  1.89      245   18.8   14.8    9.2  \n",
       "3     114      92       37          1.23  1.64      245   19.0   15.3    6.1  \n",
       "4      68      71       16          0.95  1.18      231   17.0   17.7    4.0  \n",
       "5      71      68       10          1.04  1.19      230   17.7   17.0    2.5  \n",
       "6     103      90       44          1.14  1.63      230   17.1   15.0    7.3  \n",
       "7     268     236       61          1.13  1.39      230   16.7   14.7    3.8  \n",
       "8     264     246       53          1.07  1.28      224   16.5   15.3    3.3  \n",
       "9     195     178       72          1.09  1.50      223   16.2   14.8    6.0  \n",
       "10    193     187       39          1.03  1.24      218   16.0   15.5    3.2  \n",
       "11    101      90       30          1.12  1.45      216   16.8   15.0    5.0  \n",
       "12    273     268      132          1.01  1.51      216   16.0   15.7    7.7  \n",
       "13    118     116       32          1.01  1.29      214   16.8   16.5    4.5  \n",
       "14    195     148       80          1.31  1.85      213   16.2   12.3    6.6  \n",
       "15    274     254       79          1.07  1.38      212   16.1   14.9    4.6  \n",
       "16    314     300      226          1.04  1.80      208   15.7   15.0   11.3  \n",
       "17    242     229      119          1.05  1.57      207   15.1   14.3    7.4  \n",
       "18    250     289      110          0.86  1.24      199   14.7   17.0    6.4  \n",
       "19    293     251      117          1.16  1.63      198   14.6   12.5    5.8  \n",
       "20    106     106       45          1.00  1.42      195   15.1   15.1    6.4  \n",
       "21    110     111       56          0.99  1.49      194   13.7   13.8    7.0  \n",
       "22    162     163       94          0.99  1.57      191   13.5   13.5    7.8  \n",
       "23    162     163       94          0.99  1.57      191   13.5   13.5    7.8  \n",
       "24    186     144       80          1.29  1.84      190   15.5   12.0    6.6  \n",
       "25    220     201      131          1.09  1.74      189   13.7   12.5    8.1  \n",
       "26    263     282      172          0.93  1.54      188   13.1   14.1    8.6  \n",
       "27    234     259      143          0.90  1.45      182   13.7   15.2    8.4  \n",
       "28    101     103       56          0.98  1.52      178   14.4   14.7    8.0  \n",
       "29    249     289      169          0.86  1.44      173   12.4   14.4    8.4  \n",
       "30    249     289      169          0.86  1.44      173   12.4   14.4    8.4  \n",
       "31     92     112       40          0.82  1.17      173   11.5   14.0    5.0  \n",
       "32     93     115       36          0.80  1.12      169   11.6   14.3    4.5  \n",
       "33    217     258       83          0.84  1.16      162   12.7   15.1    4.8  \n",
       "34     79      91       47          0.86  1.38      162   13.1   15.1    7.8  \n",
       "35     48      70       23          0.68  1.01      161   12.0   17.5    5.7  \n",
       "36    177     228       87          0.77  1.15      153   11.0   14.2    5.4  \n",
       "37     44      61       17          0.72  1.00      152   11.0   15.2    4.2  \n",
       "38     83     115       41          0.72  1.07      152   10.3   14.3    5.1  \n",
       "39     46      66       27          0.69  1.10      150   11.5   16.5    6.7  \n",
       "40     61      94       63          0.64  1.31      149   10.1   15.6   10.5  \n",
       "41     73     110       46          0.66  1.08      138   10.4   15.7    6.5  >"
      ]
     },
     "execution_count": 11,
     "metadata": {},
     "output_type": "execute_result"
    }
   ],
   "source": [
    "df.head"
   ]
  }
 ],
 "metadata": {
  "kernelspec": {
   "display_name": "RUTDataViz2023",
   "language": "python",
   "name": "python3"
  },
  "language_info": {
   "codemirror_mode": {
    "name": "ipython",
    "version": 3
   },
   "file_extension": ".py",
   "mimetype": "text/x-python",
   "name": "python",
   "nbconvert_exporter": "python",
   "pygments_lexer": "ipython3",
   "version": "3.10.9"
  }
 },
 "nbformat": 4,
 "nbformat_minor": 2
}
